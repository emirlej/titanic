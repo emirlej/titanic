{
 "cells": [
  {
   "cell_type": "markdown",
   "metadata": {
    "collapsed": true
   },
   "source": [
    "# I am working with the Titanic data from Kaggle to learn more R and to learn using the Caret package"
   ]
  },
  {
   "cell_type": "code",
   "execution_count": 1,
   "metadata": {
    "collapsed": false
   },
   "outputs": [
    {
     "name": "stderr",
     "output_type": "stream",
     "text": [
      "\n",
      "Attaching package: 'dplyr'\n",
      "\n",
      "The following objects are masked from 'package:stats':\n",
      "\n",
      "    filter, lag\n",
      "\n",
      "The following objects are masked from 'package:base':\n",
      "\n",
      "    intersect, setdiff, setequal, union\n",
      "\n",
      "Loading required package: lattice\n",
      "Loading required package: ggplot2\n"
     ]
    }
   ],
   "source": [
    "library(dplyr)\n",
    "library(caret)\n",
    "library(ggplot2)\n",
    "library(repr)"
   ]
  },
  {
   "cell_type": "code",
   "execution_count": 2,
   "metadata": {
    "collapsed": true
   },
   "outputs": [],
   "source": [
    "setPlotDim <- function(height = 3, width = 3) {\n",
    "    ## Function for controlling the plot dimensions\n",
    "    options(repr.plot.height = height,repr.plot.width = width)\n",
    "}"
   ]
  },
  {
   "cell_type": "code",
   "execution_count": 3,
   "metadata": {
    "collapsed": true
   },
   "outputs": [],
   "source": [
    "# Read in the data\n",
    "dat.train <- read.csv('data/train.csv', stringsAsFactors=FALSE)\n",
    "dat.test <- read.csv('data/test.csv', stringsAsFactors=FALSE)\n",
    "\n",
    "# Info about survival in test set\n",
    "survived.test <- read.csv('data/gender_submission.csv', stringsAsFactors=FALSE)"
   ]
  },
  {
   "cell_type": "code",
   "execution_count": 4,
   "metadata": {
    "collapsed": false
   },
   "outputs": [
    {
     "name": "stdout",
     "output_type": "stream",
     "text": [
      "[1] 891  12\n",
      "[1] 418  11\n"
     ]
    }
   ],
   "source": [
    "# Datasets do not have similar cols\n",
    "print(dim(dat.train))\n",
    "print(dim(dat.test))"
   ]
  },
  {
   "cell_type": "code",
   "execution_count": 5,
   "metadata": {
    "collapsed": false
   },
   "outputs": [
    {
     "data": {
      "text/html": [
       "'Survived'"
      ],
      "text/latex": [
       "'Survived'"
      ],
      "text/markdown": [
       "'Survived'"
      ],
      "text/plain": [
       "[1] \"Survived\""
      ]
     },
     "metadata": {},
     "output_type": "display_data"
    }
   ],
   "source": [
    "# Which columns does not exist in test data\n",
    "names(dat.train)[is.na(match(names(dat.train), names(dat.test)))]"
   ]
  },
  {
   "cell_type": "code",
   "execution_count": 6,
   "metadata": {
    "collapsed": false
   },
   "outputs": [
    {
     "name": "stdout",
     "output_type": "stream",
     "text": [
      "'data.frame':\t418 obs. of  2 variables:\n",
      " $ PassengerId: int  892 893 894 895 896 897 898 899 900 901 ...\n",
      " $ Survived   : int  0 1 0 0 1 0 1 0 1 0 ...\n"
     ]
    }
   ],
   "source": [
    "str(survived.test)"
   ]
  },
  {
   "cell_type": "code",
   "execution_count": 7,
   "metadata": {
    "collapsed": false
   },
   "outputs": [],
   "source": [
    "# Merge the two dataframes such that survival is present\n",
    "dat.test <- merge(dat.test, survived.test, by='PassengerId')"
   ]
  },
  {
   "cell_type": "code",
   "execution_count": 8,
   "metadata": {
    "collapsed": true
   },
   "outputs": [],
   "source": [
    "# Append the two datasets\n",
    "dat <- rbind(dat.train, dat.test)"
   ]
  },
  {
   "cell_type": "code",
   "execution_count": 9,
   "metadata": {
    "collapsed": false
   },
   "outputs": [
    {
     "name": "stdout",
     "output_type": "stream",
     "text": [
      "'data.frame':\t1309 obs. of  12 variables:\n",
      " $ PassengerId: int  1 2 3 4 5 6 7 8 9 10 ...\n",
      " $ Survived   : int  0 1 1 1 0 0 0 0 1 1 ...\n",
      " $ Pclass     : int  3 1 3 1 3 3 1 3 3 2 ...\n",
      " $ Name       : chr  \"Braund, Mr. Owen Harris\" \"Cumings, Mrs. John Bradley (Florence Briggs Thayer)\" \"Heikkinen, Miss. Laina\" \"Futrelle, Mrs. Jacques Heath (Lily May Peel)\" ...\n",
      " $ Sex        : chr  \"male\" \"female\" \"female\" \"female\" ...\n",
      " $ Age        : num  22 38 26 35 35 NA 54 2 27 14 ...\n",
      " $ SibSp      : int  1 1 0 1 0 0 0 3 0 1 ...\n",
      " $ Parch      : int  0 0 0 0 0 0 0 1 2 0 ...\n",
      " $ Ticket     : chr  \"A/5 21171\" \"PC 17599\" \"STON/O2. 3101282\" \"113803\" ...\n",
      " $ Fare       : num  7.25 71.28 7.92 53.1 8.05 ...\n",
      " $ Cabin      : chr  \"\" \"C85\" \"\" \"C123\" ...\n",
      " $ Embarked   : chr  \"S\" \"C\" \"S\" \"S\" ...\n"
     ]
    }
   ],
   "source": [
    "str(dat)"
   ]
  },
  {
   "cell_type": "code",
   "execution_count": 10,
   "metadata": {
    "collapsed": false
   },
   "outputs": [],
   "source": [
    "# Use only some columns\n",
    "dat <- dat[, c('Pclass','Age', 'Sex', 'Fare', 'Embarked', 'Survived')]"
   ]
  },
  {
   "cell_type": "code",
   "execution_count": 11,
   "metadata": {
    "collapsed": false
   },
   "outputs": [
    {
     "data": {
      "text/html": [
       "<table>\n",
       "<thead><tr><th scope=col>Pclass</th><th scope=col>Age</th><th scope=col>Sex</th><th scope=col>Fare</th><th scope=col>Embarked</th><th scope=col>Survived</th></tr></thead>\n",
       "<tbody>\n",
       "\t<tr><td>3      </td><td>22     </td><td>male   </td><td> 7.2500</td><td>S      </td><td>0      </td></tr>\n",
       "\t<tr><td>1      </td><td>38     </td><td>female </td><td>71.2833</td><td>C      </td><td>1      </td></tr>\n",
       "\t<tr><td>3      </td><td>26     </td><td>female </td><td> 7.9250</td><td>S      </td><td>1      </td></tr>\n",
       "\t<tr><td>1      </td><td>35     </td><td>female </td><td>53.1000</td><td>S      </td><td>1      </td></tr>\n",
       "\t<tr><td>3      </td><td>35     </td><td>male   </td><td> 8.0500</td><td>S      </td><td>0      </td></tr>\n",
       "\t<tr><td>3      </td><td>NA     </td><td>male   </td><td> 8.4583</td><td>Q      </td><td>0      </td></tr>\n",
       "</tbody>\n",
       "</table>\n"
      ],
      "text/latex": [
       "\\begin{tabular}{r|llllll}\n",
       " Pclass & Age & Sex & Fare & Embarked & Survived\\\\\n",
       "\\hline\n",
       "\t 3       & 22      & male    &  7.2500 & S       & 0      \\\\\n",
       "\t 1       & 38      & female  & 71.2833 & C       & 1      \\\\\n",
       "\t 3       & 26      & female  &  7.9250 & S       & 1      \\\\\n",
       "\t 1       & 35      & female  & 53.1000 & S       & 1      \\\\\n",
       "\t 3       & 35      & male    &  8.0500 & S       & 0      \\\\\n",
       "\t 3       & NA      & male    &  8.4583 & Q       & 0      \\\\\n",
       "\\end{tabular}\n"
      ],
      "text/markdown": [
       "\n",
       "Pclass | Age | Sex | Fare | Embarked | Survived | \n",
       "|---|---|---|---|---|---|\n",
       "| 3       | 22      | male    |  7.2500 | S       | 0       | \n",
       "| 1       | 38      | female  | 71.2833 | C       | 1       | \n",
       "| 3       | 26      | female  |  7.9250 | S       | 1       | \n",
       "| 1       | 35      | female  | 53.1000 | S       | 1       | \n",
       "| 3       | 35      | male    |  8.0500 | S       | 0       | \n",
       "| 3       | NA      | male    |  8.4583 | Q       | 0       | \n",
       "\n",
       "\n"
      ],
      "text/plain": [
       "  Pclass Age Sex    Fare    Embarked Survived\n",
       "1 3      22  male    7.2500 S        0       \n",
       "2 1      38  female 71.2833 C        1       \n",
       "3 3      26  female  7.9250 S        1       \n",
       "4 1      35  female 53.1000 S        1       \n",
       "5 3      35  male    8.0500 S        0       \n",
       "6 3      NA  male    8.4583 Q        0       "
      ]
     },
     "metadata": {},
     "output_type": "display_data"
    }
   ],
   "source": [
    "head(dat)"
   ]
  },
  {
   "cell_type": "code",
   "execution_count": 12,
   "metadata": {
    "collapsed": true
   },
   "outputs": [],
   "source": [
    "# Change datatypes\n",
    "change.dattypes <- function(df) {\n",
    "    df$Pclass <- factor(df$Pclass, levels = 1:3)\n",
    "    df$Age <- as.numeric(df$Age)\n",
    "    df$Sex <- factor(df$Sex)\n",
    "    df$Fare <- as.numeric(df$Fare)\n",
    "    df$Embarked <- factor(df$Embarked)\n",
    "    df$Survived <- factor(df$Survived)\n",
    "    return(df)\n",
    "}"
   ]
  },
  {
   "cell_type": "code",
   "execution_count": 13,
   "metadata": {
    "collapsed": false
   },
   "outputs": [
    {
     "data": {
      "text/plain": [
       " Pclass       Age            Sex           Fare         Embarked Survived\n",
       " 1:323   Min.   : 0.17   female:466   Min.   :  0.000    :  2    0:815   \n",
       " 2:277   1st Qu.:21.00   male  :843   1st Qu.:  7.896   C:270    1:494   \n",
       " 3:709   Median :28.00                Median : 14.454   Q:123            \n",
       "         Mean   :29.88                Mean   : 33.295   S:914            \n",
       "         3rd Qu.:39.00                3rd Qu.: 31.275                    \n",
       "         Max.   :80.00                Max.   :512.329                    \n",
       "         NA's   :263                  NA's   :1                          "
      ]
     },
     "metadata": {},
     "output_type": "display_data"
    }
   ],
   "source": [
    "dat <- change.dattypes(dat)\n",
    "summary(dat)"
   ]
  },
  {
   "cell_type": "code",
   "execution_count": 14,
   "metadata": {
    "collapsed": false
   },
   "outputs": [
    {
     "name": "stdout",
     "output_type": "stream",
     "text": [
      "'data.frame':\t1309 obs. of  6 variables:\n",
      " $ Pclass  : Factor w/ 3 levels \"1\",\"2\",\"3\": 3 1 3 1 3 3 1 3 3 2 ...\n",
      " $ Age     : num  22 38 26 35 35 NA 54 2 27 14 ...\n",
      " $ Sex     : Factor w/ 2 levels \"female\",\"male\": 2 1 1 1 2 2 2 2 1 1 ...\n",
      " $ Fare    : num  7.25 71.28 7.92 53.1 8.05 ...\n",
      " $ Embarked: Factor w/ 4 levels \"\",\"C\",\"Q\",\"S\": 4 2 4 4 4 3 4 4 4 2 ...\n",
      " $ Survived: Factor w/ 2 levels \"0\",\"1\": 1 2 2 2 1 1 1 1 2 2 ...\n"
     ]
    }
   ],
   "source": [
    "str(dat)"
   ]
  },
  {
   "cell_type": "code",
   "execution_count": 15,
   "metadata": {
    "collapsed": false
   },
   "outputs": [
    {
     "data": {
      "text/html": [
       "<dl class=dl-horizontal>\n",
       "\t<dt>Pclass</dt>\n",
       "\t\t<dd>0</dd>\n",
       "\t<dt>Age</dt>\n",
       "\t\t<dd>263</dd>\n",
       "\t<dt>Sex</dt>\n",
       "\t\t<dd>0</dd>\n",
       "\t<dt>Fare</dt>\n",
       "\t\t<dd>1</dd>\n",
       "\t<dt>Embarked</dt>\n",
       "\t\t<dd>0</dd>\n",
       "\t<dt>Survived</dt>\n",
       "\t\t<dd>0</dd>\n",
       "</dl>\n"
      ],
      "text/latex": [
       "\\begin{description*}\n",
       "\\item[Pclass] 0\n",
       "\\item[Age] 263\n",
       "\\item[Sex] 0\n",
       "\\item[Fare] 1\n",
       "\\item[Embarked] 0\n",
       "\\item[Survived] 0\n",
       "\\end{description*}\n"
      ],
      "text/markdown": [
       "Pclass\n",
       ":   0Age\n",
       ":   263Sex\n",
       ":   0Fare\n",
       ":   1Embarked\n",
       ":   0Survived\n",
       ":   0\n",
       "\n"
      ],
      "text/plain": [
       "  Pclass      Age      Sex     Fare Embarked Survived \n",
       "       0      263        0        1        0        0 "
      ]
     },
     "metadata": {},
     "output_type": "display_data"
    }
   ],
   "source": [
    "# Find the NA values\n",
    "sapply(dat, function(x) sum(is.na(x)))"
   ]
  },
  {
   "cell_type": "code",
   "execution_count": 16,
   "metadata": {
    "collapsed": false
   },
   "outputs": [],
   "source": [
    "imputeMissingValues <- function(df, colname, func) {\n",
    "    # Works with median and mean (this is tested).\n",
    "    if (is.numeric(df[, colname])) {\n",
    "        df[is.na(df[, colname]), colname] <- func(df[, colname], na.rm = TRUE)\n",
    "    }\n",
    "    return(df)\n",
    "}\n",
    "# Input median for the missing ages and fares\n",
    "dat <- imputeMissingValues(dat, 'Age', func = median)\n",
    "dat <- imputeMissingValues(dat, 'Fare', func = median)"
   ]
  },
  {
   "cell_type": "code",
   "execution_count": 17,
   "metadata": {
    "collapsed": false
   },
   "outputs": [
    {
     "data": {
      "text/plain": [
       "   Min. 1st Qu.  Median    Mean 3rd Qu.    Max. \n",
       "   0.17   22.00   28.00   29.50   35.00   80.00 "
      ]
     },
     "metadata": {},
     "output_type": "display_data"
    }
   ],
   "source": [
    "# Print the change in Age stats. Just small changes due to imputation\n",
    "summary(dat$Age)"
   ]
  },
  {
   "cell_type": "code",
   "execution_count": 18,
   "metadata": {
    "collapsed": false
   },
   "outputs": [
    {
     "data": {
      "text/plain": [
       "   Min. 1st Qu.  Median    Mean 3rd Qu.    Max. \n",
       "  0.000   7.896  14.450  33.280  31.280 512.300 "
      ]
     },
     "metadata": {},
     "output_type": "display_data"
    }
   ],
   "source": [
    "summary(dat$Fare)"
   ]
  },
  {
   "cell_type": "code",
   "execution_count": 19,
   "metadata": {
    "collapsed": false
   },
   "outputs": [
    {
     "data": {
      "text/html": [
       "<dl class=dl-horizontal>\n",
       "\t<dt>Pclass</dt>\n",
       "\t\t<dd>0</dd>\n",
       "\t<dt>Age</dt>\n",
       "\t\t<dd>0</dd>\n",
       "\t<dt>Sex</dt>\n",
       "\t\t<dd>0</dd>\n",
       "\t<dt>Fare</dt>\n",
       "\t\t<dd>0</dd>\n",
       "\t<dt>Embarked</dt>\n",
       "\t\t<dd>0</dd>\n",
       "\t<dt>Survived</dt>\n",
       "\t\t<dd>0</dd>\n",
       "</dl>\n"
      ],
      "text/latex": [
       "\\begin{description*}\n",
       "\\item[Pclass] 0\n",
       "\\item[Age] 0\n",
       "\\item[Sex] 0\n",
       "\\item[Fare] 0\n",
       "\\item[Embarked] 0\n",
       "\\item[Survived] 0\n",
       "\\end{description*}\n"
      ],
      "text/markdown": [
       "Pclass\n",
       ":   0Age\n",
       ":   0Sex\n",
       ":   0Fare\n",
       ":   0Embarked\n",
       ":   0Survived\n",
       ":   0\n",
       "\n"
      ],
      "text/plain": [
       "  Pclass      Age      Sex     Fare Embarked Survived \n",
       "       0        0        0        0        0        0 "
      ]
     },
     "metadata": {},
     "output_type": "display_data"
    }
   ],
   "source": [
    "# Find the NA values\n",
    "sapply(dat, function(x) sum(is.na(x)))"
   ]
  },
  {
   "cell_type": "code",
   "execution_count": 20,
   "metadata": {
    "collapsed": false
   },
   "outputs": [
    {
     "data": {
      "text/html": [
       "<dl>\n",
       "\t<dt>$Pclass</dt>\n",
       "\t\t<dd><ol class=list-inline>\n",
       "\t<li>3</li>\n",
       "\t<li>1</li>\n",
       "\t<li>2</li>\n",
       "</ol>\n",
       "</dd>\n",
       "\t<dt>$Sex</dt>\n",
       "\t\t<dd><ol class=list-inline>\n",
       "\t<li>'male'</li>\n",
       "\t<li>'female'</li>\n",
       "</ol>\n",
       "</dd>\n",
       "\t<dt>$Embarked</dt>\n",
       "\t\t<dd><ol class=list-inline>\n",
       "\t<li>'S'</li>\n",
       "\t<li>'C'</li>\n",
       "\t<li>'Q'</li>\n",
       "\t<li>''</li>\n",
       "</ol>\n",
       "</dd>\n",
       "</dl>\n"
      ],
      "text/latex": [
       "\\begin{description}\n",
       "\\item[\\$Pclass] \\begin{enumerate*}\n",
       "\\item 3\n",
       "\\item 1\n",
       "\\item 2\n",
       "\\end{enumerate*}\n",
       "\n",
       "\\item[\\$Sex] \\begin{enumerate*}\n",
       "\\item 'male'\n",
       "\\item 'female'\n",
       "\\end{enumerate*}\n",
       "\n",
       "\\item[\\$Embarked] \\begin{enumerate*}\n",
       "\\item 'S'\n",
       "\\item 'C'\n",
       "\\item 'Q'\n",
       "\\item ''\n",
       "\\end{enumerate*}\n",
       "\n",
       "\\end{description}\n"
      ],
      "text/markdown": [
       "$Pclass\n",
       ":   1. 3\n",
       "2. 1\n",
       "3. 2\n",
       "\n",
       "\n",
       "\n",
       "$Sex\n",
       ":   1. 'male'\n",
       "2. 'female'\n",
       "\n",
       "\n",
       "\n",
       "$Embarked\n",
       ":   1. 'S'\n",
       "2. 'C'\n",
       "3. 'Q'\n",
       "4. ''\n",
       "\n",
       "\n",
       "\n",
       "\n",
       "\n"
      ],
      "text/plain": [
       "$Pclass\n",
       "[1] 3 1 2\n",
       "\n",
       "$Sex\n",
       "[1] \"male\"   \"female\"\n",
       "\n",
       "$Embarked\n",
       "[1] \"S\" \"C\" \"Q\" \"\" \n"
      ]
     },
     "metadata": {},
     "output_type": "display_data"
    }
   ],
   "source": [
    "# Take a look at the unique values of some of the char. datatypes\n",
    "lapply(dat.train[, c('Pclass', 'Sex', 'Embarked')], unique)"
   ]
  },
  {
   "cell_type": "code",
   "execution_count": 21,
   "metadata": {
    "collapsed": false
   },
   "outputs": [
    {
     "data": {
      "text/plain": [
       "\n",
       "      C   Q   S \n",
       "  2 270 123 914 "
      ]
     },
     "metadata": {},
     "output_type": "display_data"
    }
   ],
   "source": [
    "# How many rows are empty \n",
    "table(dat$Embarked)"
   ]
  },
  {
   "cell_type": "code",
   "execution_count": 22,
   "metadata": {
    "collapsed": false
   },
   "outputs": [],
   "source": [
    "# Let us remove the two rows containing \"\"\n",
    "dat <- filter(dat, Embarked != \"\")\n",
    "dat$Embarked <- droplevels(dat$Embarked) # Drop unused levels"
   ]
  },
  {
   "cell_type": "code",
   "execution_count": 23,
   "metadata": {
    "collapsed": false
   },
   "outputs": [
    {
     "data": {
      "text/plain": [
       "\n",
       "  C   Q   S \n",
       "270 123 914 "
      ]
     },
     "metadata": {},
     "output_type": "display_data"
    }
   ],
   "source": [
    "# How many rows are empty \n",
    "table(dat$Embarked)"
   ]
  },
  {
   "cell_type": "markdown",
   "metadata": {},
   "source": [
    "# Some plotting\n"
   ]
  },
  {
   "cell_type": "code",
   "execution_count": 24,
   "metadata": {
    "collapsed": false
   },
   "outputs": [],
   "source": [
    "setPlotDim(3, 4)"
   ]
  },
  {
   "cell_type": "code",
   "execution_count": 25,
   "metadata": {
    "collapsed": false
   },
   "outputs": [
    {
     "data": {},
     "metadata": {},
     "output_type": "display_data"
    },
    {
     "data": {
      "image/png": "[encoded data removed]",
      "text/plain": [
       "plot without title"
      ]
     },
     "metadata": {},
     "output_type": "display_data"
    }
   ],
   "source": [
    "ggplot(dat, aes(Age)) + geom_histogram(col='black', binwidth = 5)"
   ]
  },
  {
   "cell_type": "code",
   "execution_count": 26,
   "metadata": {
    "collapsed": false
   },
   "outputs": [
    {
     "data": {},
     "metadata": {},
     "output_type": "display_data"
    },
    {
     "data": {
      "image/png": "[encoded data removed]",
      "text/plain": [
       "plot without title"
      ]
     },
     "metadata": {},
     "output_type": "display_data"
    }
   ],
   "source": [
    "ggplot(dat, aes(Survived, Age)) + geom_boxplot()"
   ]
  },
  {
   "cell_type": "code",
   "execution_count": 27,
   "metadata": {
    "collapsed": false
   },
   "outputs": [
    {
     "data": {},
     "metadata": {},
     "output_type": "display_data"
    },
    {
     "data": {
      "image/png": "[encoded data removed]",
      "text/plain": [
       "plot without title"
      ]
     },
     "metadata": {},
     "output_type": "display_data"
    }
   ],
   "source": [
    "ggplot(dat, aes(Survived, Fare)) + geom_boxplot()"
   ]
  },
  {
   "cell_type": "code",
   "execution_count": 28,
   "metadata": {
    "collapsed": false
   },
   "outputs": [
    {
     "data": {},
     "metadata": {},
     "output_type": "display_data"
    },
    {
     "data": {
      "image/png": "[encoded data removed]",
      "text/plain": [
       "plot without title"
      ]
     },
     "metadata": {},
     "output_type": "display_data"
    }
   ],
   "source": [
    "ggplot(dat, aes(Survived, Age)) + geom_boxplot(aes(fill = Pclass))"
   ]
  },
  {
   "cell_type": "code",
   "execution_count": 29,
   "metadata": {
    "collapsed": false
   },
   "outputs": [
    {
     "data": {},
     "metadata": {},
     "output_type": "display_data"
    },
    {
     "data": {
      "image/png": "[encoded data removed]",
      "text/plain": [
       "plot without title"
      ]
     },
     "metadata": {},
     "output_type": "display_data"
    }
   ],
   "source": [
    "ggplot(dat, aes(Survived)) + geom_bar(aes(fill = Pclass))"
   ]
  },
  {
   "cell_type": "code",
   "execution_count": 30,
   "metadata": {
    "collapsed": false
   },
   "outputs": [
    {
     "data": {},
     "metadata": {},
     "output_type": "display_data"
    },
    {
     "data": {
      "image/png": "[encoded data removed]",
      "text/plain": [
       "plot without title"
      ]
     },
     "metadata": {},
     "output_type": "display_data"
    }
   ],
   "source": [
    "ggplot(dat, aes(x = Age, y = Fare, color = Pclass)) + geom_point(alpha=0.5)"
   ]
  },
  {
   "cell_type": "code",
   "execution_count": 31,
   "metadata": {
    "collapsed": false
   },
   "outputs": [
    {
     "data": {},
     "metadata": {},
     "output_type": "display_data"
    },
    {
     "data": {
      "image/png": "[encoded data removed]",
      "text/plain": [
       "plot without title"
      ]
     },
     "metadata": {},
     "output_type": "display_data"
    }
   ],
   "source": [
    "ggplot(dat, aes(x=Pclass, y=Fare)) + geom_boxplot()"
   ]
  },
  {
   "cell_type": "markdown",
   "metadata": {},
   "source": [
    "# Machine learning\n"
   ]
  },
  {
   "cell_type": "code",
   "execution_count": 32,
   "metadata": {
    "collapsed": false
   },
   "outputs": [
    {
     "data": {
      "text/plain": [
       "\n",
       "        0         1 \n",
       "0.6235654 0.3764346 "
      ]
     },
     "metadata": {},
     "output_type": "display_data"
    }
   ],
   "source": [
    "# Most people died\n",
    "prop.table(table(dat$Survived))"
   ]
  },
  {
   "cell_type": "markdown",
   "metadata": {
    "collapsed": true
   },
   "source": [
    "## Normalize numerical data"
   ]
  },
  {
   "cell_type": "code",
   "execution_count": 33,
   "metadata": {
    "collapsed": false
   },
   "outputs": [
    {
     "data": {
      "text/plain": [
       " Pclass       Age              Sex           Fare          Embarked Survived\n",
       " 1:321   Min.   :-2.2747   female:464   Min.   :-0.64175   C:270    0:815   \n",
       " 2:277   1st Qu.:-0.5800   male  :843   1st Qu.:-0.48917   Q:123    1:492   \n",
       " 3:709   Median :-0.1143                Median :-0.36243   S:914            \n",
       "         Mean   : 0.0000                Mean   : 0.00000                    \n",
       "         3rd Qu.: 0.4292                3rd Qu.:-0.03738                    \n",
       "         Max.   : 3.9225                Max.   : 9.25857                    "
      ]
     },
     "metadata": {},
     "output_type": "display_data"
    }
   ],
   "source": [
    "# Normalize the numerical values. Subtract mean, and divide with sd\n",
    "normPreProc <- preProcess(dat, method = c('center', 'scale'))\n",
    "\n",
    "# Transform the data\n",
    "dat <- predict(normPreProc, dat)\n",
    "summary(dat) # Check if ok"
   ]
  },
  {
   "cell_type": "markdown",
   "metadata": {},
   "source": [
    "## Set up training features and labels"
   ]
  },
  {
   "cell_type": "code",
   "execution_count": 34,
   "metadata": {
    "collapsed": false
   },
   "outputs": [],
   "source": [
    "getFeaturesLabels <- function(dat, label) {\n",
    "    ## Function which extracts features and labels from\n",
    "    ## dataset and returns them as a matrix and vector\n",
    "    ## respectively.\n",
    "    \n",
    "    # Break if label is not found\n",
    "    if (!TRUE %in% grepl(label, colnames(dat))) { \n",
    "        stop('Label not found in colnames: ', label)       \n",
    "        }\n",
    "    \n",
    "    X <- dat[, !(colnames(dat) %in% label)] # Feature matrix\n",
    "    y <- dat[, label] # Label vector\n",
    "    \n",
    "    return(list(features = X, labels = y))\n",
    "}       "
   ]
  },
  {
   "cell_type": "code",
   "execution_count": 35,
   "metadata": {
    "collapsed": true
   },
   "outputs": [],
   "source": [
    "# Split into features and label\n",
    "mldata <- getFeaturesLabels(dat, label = 'Survived')\n",
    "\n",
    "y <- mldata$labels # Labels\n",
    "X <- mldata$features # Feature matrix"
   ]
  },
  {
   "cell_type": "markdown",
   "metadata": {},
   "source": [
    "## Split data 70/30"
   ]
  },
  {
   "cell_type": "code",
   "execution_count": 36,
   "metadata": {
    "collapsed": true
   },
   "outputs": [],
   "source": [
    "# Split data into test and train\n",
    "set.seed(123)\n",
    "split <- createDataPartition(y, p = 0.7, list = FALSE)\n",
    "\n",
    "# Training sets\n",
    "X.train <- X[split, ]\n",
    "y.train <- y[split]\n",
    "\n",
    "# Testing sets\n",
    "X.test <- X[-split, ]\n",
    "y.test <- y[-split]"
   ]
  },
  {
   "cell_type": "code",
   "execution_count": 37,
   "metadata": {
    "collapsed": false
   },
   "outputs": [
    {
     "name": "stdout",
     "output_type": "stream",
     "text": [
      "[1] 391   5\n",
      "[1] 391\n"
     ]
    }
   ],
   "source": [
    "print(dim(X.test))\n",
    "print(length(y.test))"
   ]
  },
  {
   "cell_type": "markdown",
   "metadata": {},
   "source": [
    "## Package for ROC curves"
   ]
  },
  {
   "cell_type": "code",
   "execution_count": 38,
   "metadata": {
    "collapsed": false
   },
   "outputs": [
    {
     "name": "stderr",
     "output_type": "stream",
     "text": [
      "Loading required package: gplots\n",
      "\n",
      "Attaching package: 'gplots'\n",
      "\n",
      "The following object is masked from 'package:stats':\n",
      "\n",
      "    lowess\n",
      "\n"
     ]
    }
   ],
   "source": [
    "library(ROCR)"
   ]
  },
  {
   "cell_type": "code",
   "execution_count": 39,
   "metadata": {
    "collapsed": true
   },
   "outputs": [],
   "source": [
    "plotRoc <- function(pred, title.text = '', width = 3, height = 3) {\n",
    "    ## Function to plot the ROC curve together with the AUC value\n",
    "    \n",
    "    require(ROCR)\n",
    "    \n",
    "    # Calculate the False and True Positve rate\n",
    "    perf <- performance(pred, measure = 'tpr', x.measure = 'fpr')\n",
    "    \n",
    "    # Get the AUC value\n",
    "    auc.tmp <- performance(pred,\"auc\"); auc <- as.numeric(auc.tmp@y.values)    \n",
    "    \n",
    "    options(repr.plot.height = height, repr.plot.width = width)\n",
    "    df <- data.frame(FPR = perf@x.values[[1]],\n",
    "                     TPR = perf@y.values[[1]])\n",
    "    \n",
    "    # Calculate closest values to upper left corner\n",
    "    df$dist <- sqrt((0-df$FPR)**2 + (1-df$TPR)**2)\n",
    "    min.dist <- df[which.min(df$dist), ]\n",
    "    \n",
    "    \n",
    "    plt <- ggplot(df, aes(FPR, TPR)) + geom_line() + \n",
    "    geom_abline(slope = 1, linetype = 2) + \n",
    "    annotate(\"text\", x = min.dist$FPR, y = min.dist$TPR*1.1, label = paste('AUC: ', round(auc, digit=3))) +\n",
    "    ggtitle(title.text)\n",
    "    \n",
    "    return(plt)   \n",
    "}"
   ]
  },
  {
   "cell_type": "markdown",
   "metadata": {},
   "source": [
    "## Logistic regression\n",
    "\n",
    "No tuning of parameters now!"
   ]
  },
  {
   "cell_type": "code",
   "execution_count": 40,
   "metadata": {
    "collapsed": false
   },
   "outputs": [
    {
     "name": "stderr",
     "output_type": "stream",
     "text": [
      "Loading required package: Matrix\n",
      "Loading required package: foreach\n",
      "Loaded glmnet 2.0-5\n",
      "\n"
     ]
    }
   ],
   "source": [
    "library(glmnet)"
   ]
  },
  {
   "cell_type": "markdown",
   "metadata": {},
   "source": [
    "### Create dummy vars\n",
    "\n",
    "To proceed with logistic regression, categorical data needs to be splitted such that each category values has its own column. This can be done creating dummy variables using the caret package. For more info check out: "
   ]
  },
  {
   "cell_type": "code",
   "execution_count": 41,
   "metadata": {
    "collapsed": false
   },
   "outputs": [
    {
     "data": {
      "text/html": [
       "<table>\n",
       "<thead><tr><th></th><th scope=col>Pclass.2</th><th scope=col>Pclass.3</th><th scope=col>Age</th><th scope=col>Sex.male</th><th scope=col>Fare</th><th scope=col>Embarked.Q</th><th scope=col>Embarked.S</th></tr></thead>\n",
       "<tbody>\n",
       "\t<tr><th scope=row>1</th><td>0         </td><td>1         </td><td>-0.5800386</td><td>1         </td><td>-0.5016466</td><td>0         </td><td>1         </td></tr>\n",
       "\t<tr><th scope=row>2</th><td>0         </td><td>0         </td><td> 0.6620439</td><td>0         </td><td> 0.7357413</td><td>0         </td><td>0         </td></tr>\n",
       "\t<tr><th scope=row>3</th><td>0         </td><td>1         </td><td>-0.2695180</td><td>0         </td><td>-0.4886028</td><td>0         </td><td>1         </td></tr>\n",
       "\t<tr><th scope=row>4</th><td>0         </td><td>0         </td><td> 0.4291534</td><td>0         </td><td> 0.3843648</td><td>0         </td><td>1         </td></tr>\n",
       "\t<tr><th scope=row>7</th><td>0         </td><td>0         </td><td> 1.9041264</td><td>1         </td><td> 0.3604512</td><td>0         </td><td>1         </td></tr>\n",
       "\t<tr><th scope=row>8</th><td>0         </td><td>1         </td><td>-2.1326418</td><td>1         </td><td>-0.2344905</td><td>0         </td><td>1         </td></tr>\n",
       "</tbody>\n",
       "</table>\n"
      ],
      "text/latex": [
       "\\begin{tabular}{r|lllllll}\n",
       "  & Pclass.2 & Pclass.3 & Age & Sex.male & Fare & Embarked.Q & Embarked.S\\\\\n",
       "\\hline\n",
       "\t1 & 0          & 1          & -0.5800386 & 1          & -0.5016466 & 0          & 1         \\\\\n",
       "\t2 & 0          & 0          &  0.6620439 & 0          &  0.7357413 & 0          & 0         \\\\\n",
       "\t3 & 0          & 1          & -0.2695180 & 0          & -0.4886028 & 0          & 1         \\\\\n",
       "\t4 & 0          & 0          &  0.4291534 & 0          &  0.3843648 & 0          & 1         \\\\\n",
       "\t7 & 0          & 0          &  1.9041264 & 1          &  0.3604512 & 0          & 1         \\\\\n",
       "\t8 & 0          & 1          & -2.1326418 & 1          & -0.2344905 & 0          & 1         \\\\\n",
       "\\end{tabular}\n"
      ],
      "text/markdown": [
       "\n",
       "| <!--/--> | Pclass.2 | Pclass.3 | Age | Sex.male | Fare | Embarked.Q | Embarked.S | \n",
       "|---|---|---|---|---|---|\n",
       "| 1 | 0          | 1          | -0.5800386 | 1          | -0.5016466 | 0          | 1          | \n",
       "| 2 | 0          | 0          |  0.6620439 | 0          |  0.7357413 | 0          | 0          | \n",
       "| 3 | 0          | 1          | -0.2695180 | 0          | -0.4886028 | 0          | 1          | \n",
       "| 4 | 0          | 0          |  0.4291534 | 0          |  0.3843648 | 0          | 1          | \n",
       "| 7 | 0          | 0          |  1.9041264 | 1          |  0.3604512 | 0          | 1          | \n",
       "| 8 | 0          | 1          | -2.1326418 | 1          | -0.2344905 | 0          | 1          | \n",
       "\n",
       "\n"
      ],
      "text/plain": [
       "  Pclass.2 Pclass.3 Age        Sex.male Fare       Embarked.Q Embarked.S\n",
       "1 0        1        -0.5800386 1        -0.5016466 0          1         \n",
       "2 0        0         0.6620439 0         0.7357413 0          0         \n",
       "3 0        1        -0.2695180 0        -0.4886028 0          1         \n",
       "4 0        0         0.4291534 0         0.3843648 0          1         \n",
       "7 0        0         1.9041264 1         0.3604512 0          1         \n",
       "8 0        1        -2.1326418 1        -0.2344905 0          1         "
      ]
     },
     "metadata": {},
     "output_type": "display_data"
    }
   ],
   "source": [
    "# Create a feature matrix with dummy vars and a label vector\n",
    "dummies <- dummyVars(~., data = X.train, fullRank = T)\n",
    "\n",
    "# Need to do this with both train and test set\n",
    "X.train.logit <- predict(dummies, newdata = X.train)\n",
    "X.test.logit <- predict(dummies, newdata = X.test)\n",
    "\n",
    "# Check that it is ok\n",
    "head(X.train.logit)"
   ]
  },
  {
   "cell_type": "code",
   "execution_count": 42,
   "metadata": {
    "collapsed": false
   },
   "outputs": [
    {
     "data": {
      "text/plain": [
       "Dummy Variable Object\n",
       "\n",
       "Formula: ~.\n",
       "5 variables, 3 factors\n",
       "Variables and levels will be separated by '.'\n",
       "A full rank encoding is used"
      ]
     },
     "metadata": {},
     "output_type": "display_data"
    }
   ],
   "source": [
    "dummies"
   ]
  },
  {
   "cell_type": "markdown",
   "metadata": {},
   "source": [
    "### Test out glm with one lambda value for L2 regularization\n"
   ]
  },
  {
   "cell_type": "code",
   "execution_count": 43,
   "metadata": {
    "collapsed": false
   },
   "outputs": [],
   "source": [
    "# Want only to use some \n",
    "logit.clf <- glmnet(X.train.logit, y.train, family = 'binomial', alpha = 0, lambda = 1)"
   ]
  },
  {
   "cell_type": "code",
   "execution_count": 44,
   "metadata": {
    "collapsed": false
   },
   "outputs": [
    {
     "data": {
      "text/plain": [
       "8 x 1 sparse Matrix of class \"dgCMatrix\"\n",
       "                      s0\n",
       "(Intercept) -0.006387977\n",
       "Pclass.2     0.014149717\n",
       "Pclass.3    -0.160412948\n",
       "Age         -0.027234661\n",
       "Sex.male    -0.552102803\n",
       "Fare         0.080854226\n",
       "Embarked.Q  -0.001719902\n",
       "Embarked.S  -0.088369176"
      ]
     },
     "metadata": {},
     "output_type": "display_data"
    }
   ],
   "source": [
    "# Print the coefficients\n",
    "coeffs <- coef(logit.clf)\n",
    "coeffs"
   ]
  },
  {
   "cell_type": "code",
   "execution_count": 45,
   "metadata": {
    "collapsed": false
   },
   "outputs": [
    {
     "name": "stdout",
     "output_type": "stream",
     "text": [
      "  Pclass.2   Pclass.3        Age   Sex.male       Fare Embarked.Q Embarked.S \n",
      " 0.0000000  1.0000000  0.4291534  1.0000000 -0.4861873  0.0000000  1.0000000 \n",
      "[1] 0.2977007\n"
     ]
    }
   ],
   "source": [
    "# Predict \n",
    "pred.prob <- predict(logit.clf, newx = X.test.logit, type = 'response')\n",
    "\n",
    "print(X.test.logit[1, ])\n",
    "print(pred.prob[1, ])"
   ]
  },
  {
   "cell_type": "code",
   "execution_count": 46,
   "metadata": {
    "collapsed": false
   },
   "outputs": [],
   "source": [
    "# Evaluate the simple logistic regression\n",
    "pred.classes <- ifelse(pred.prob > 0.5, 1, 0)"
   ]
  },
  {
   "cell_type": "code",
   "execution_count": 47,
   "metadata": {
    "collapsed": false
   },
   "outputs": [
    {
     "data": {
      "text/plain": [
       "Confusion Matrix and Statistics\n",
       "\n",
       "          Reference\n",
       "Prediction   0   1\n",
       "         0 243 119\n",
       "         1   1  28\n",
       "                                          \n",
       "               Accuracy : 0.6931          \n",
       "                 95% CI : (0.6448, 0.7385)\n",
       "    No Information Rate : 0.624           \n",
       "    P-Value [Acc > NIR] : 0.002549        \n",
       "                                          \n",
       "                  Kappa : 0.2218          \n",
       " Mcnemar's Test P-Value : < 2.2e-16       \n",
       "                                          \n",
       "            Sensitivity : 0.19048         \n",
       "            Specificity : 0.99590         \n",
       "         Pos Pred Value : 0.96552         \n",
       "         Neg Pred Value : 0.67127         \n",
       "             Prevalence : 0.37596         \n",
       "         Detection Rate : 0.07161         \n",
       "   Detection Prevalence : 0.07417         \n",
       "      Balanced Accuracy : 0.59319         \n",
       "                                          \n",
       "       'Positive' Class : 1               \n",
       "                                          "
      ]
     },
     "metadata": {},
     "output_type": "display_data"
    }
   ],
   "source": [
    "# Create the confusion matrix\n",
    "cm <- confusionMatrix(factor(pred.classes[, 1], levels = c(0, 1)), y.test, positive = '1')\n",
    "cm"
   ]
  },
  {
   "cell_type": "code",
   "execution_count": 48,
   "metadata": {
    "collapsed": false
   },
   "outputs": [
    {
     "data": {
      "text/html": [
       "<dl class=dl-horizontal>\n",
       "\t<dt>Sensitivity</dt>\n",
       "\t\t<dd>0.19047619047619</dd>\n",
       "\t<dt>Specificity</dt>\n",
       "\t\t<dd>0.995901639344262</dd>\n",
       "\t<dt>Pos Pred Value</dt>\n",
       "\t\t<dd>0.965517241379311</dd>\n",
       "\t<dt>Neg Pred Value</dt>\n",
       "\t\t<dd>0.671270718232044</dd>\n",
       "\t<dt>Precision</dt>\n",
       "\t\t<dd>0.96551724137931</dd>\n",
       "\t<dt>Recall</dt>\n",
       "\t\t<dd>0.19047619047619</dd>\n",
       "\t<dt>F1</dt>\n",
       "\t\t<dd>0.318181818181818</dd>\n",
       "\t<dt>Prevalence</dt>\n",
       "\t\t<dd>0.375959079283887</dd>\n",
       "\t<dt>Detection Rate</dt>\n",
       "\t\t<dd>0.0716112531969309</dd>\n",
       "\t<dt>Detection Prevalence</dt>\n",
       "\t\t<dd>0.0741687979539642</dd>\n",
       "\t<dt>Balanced Accuracy</dt>\n",
       "\t\t<dd>0.593188914910226</dd>\n",
       "</dl>\n"
      ],
      "text/latex": [
       "\\begin{description*}\n",
       "\\item[Sensitivity] 0.19047619047619\n",
       "\\item[Specificity] 0.995901639344262\n",
       "\\item[Pos Pred Value] 0.965517241379311\n",
       "\\item[Neg Pred Value] 0.671270718232044\n",
       "\\item[Precision] 0.96551724137931\n",
       "\\item[Recall] 0.19047619047619\n",
       "\\item[F1] 0.318181818181818\n",
       "\\item[Prevalence] 0.375959079283887\n",
       "\\item[Detection Rate] 0.0716112531969309\n",
       "\\item[Detection Prevalence] 0.0741687979539642\n",
       "\\item[Balanced Accuracy] 0.593188914910226\n",
       "\\end{description*}\n"
      ],
      "text/markdown": [
       "Sensitivity\n",
       ":   0.19047619047619Specificity\n",
       ":   0.995901639344262Pos Pred Value\n",
       ":   0.965517241379311Neg Pred Value\n",
       ":   0.671270718232044Precision\n",
       ":   0.96551724137931Recall\n",
       ":   0.19047619047619F1\n",
       ":   0.318181818181818Prevalence\n",
       ":   0.375959079283887Detection Rate\n",
       ":   0.0716112531969309Detection Prevalence\n",
       ":   0.0741687979539642Balanced Accuracy\n",
       ":   0.593188914910226\n",
       "\n"
      ],
      "text/plain": [
       "         Sensitivity          Specificity       Pos Pred Value \n",
       "          0.19047619           0.99590164           0.96551724 \n",
       "      Neg Pred Value            Precision               Recall \n",
       "          0.67127072           0.96551724           0.19047619 \n",
       "                  F1           Prevalence       Detection Rate \n",
       "          0.31818182           0.37595908           0.07161125 \n",
       "Detection Prevalence    Balanced Accuracy \n",
       "          0.07416880           0.59318891 "
      ]
     },
     "metadata": {},
     "output_type": "display_data"
    }
   ],
   "source": [
    "cm$byClass"
   ]
  },
  {
   "cell_type": "code",
   "execution_count": 49,
   "metadata": {
    "collapsed": false
   },
   "outputs": [
    {
     "data": {},
     "metadata": {},
     "output_type": "display_data"
    },
    {
     "data": {
      "image/png": "[encoded data removed]",
      "text/plain": [
       "plot without title"
      ]
     },
     "metadata": {},
     "output_type": "display_data"
    }
   ],
   "source": [
    "setPlotDim(3, 3)\n",
    "pred <- prediction(pred.prob, y.test)\n",
    "plotRoc(pred)"
   ]
  },
  {
   "cell_type": "markdown",
   "metadata": {},
   "source": [
    "## Perform grid search"
   ]
  },
  {
   "cell_type": "code",
   "execution_count": 50,
   "metadata": {
    "collapsed": true
   },
   "outputs": [],
   "source": [
    "runKFoldTuneGrid <- function(x, y, train.control, tune.grid, method = 'glmnet') {\n",
    "    # Use same seed\n",
    "    set.seed(123)    \n",
    "    # Create classifier\n",
    "    clf <- train(x = x,\n",
    "                 y = y, \n",
    "                 method = method,\n",
    "                 trControl = train.control,\n",
    "                 tuneGrid = tune.grid,\n",
    "                 )\n",
    "    return(clf)\n",
    "}"
   ]
  },
  {
   "cell_type": "markdown",
   "metadata": {},
   "source": [
    "### Set up parameter grid and control"
   ]
  },
  {
   "cell_type": "code",
   "execution_count": 51,
   "metadata": {
    "collapsed": false
   },
   "outputs": [],
   "source": [
    "lambda.seq <- log(seq(1, 100, length.out = 100))\n",
    "tune.grid <- expand.grid(lambda = lambda.seq, alpha = 0)\n",
    "train.control <- trainControl(method=\"cv\", number=10, classProbs = FALSE)"
   ]
  },
  {
   "cell_type": "code",
   "execution_count": 52,
   "metadata": {
    "collapsed": false
   },
   "outputs": [],
   "source": [
    "logit.clf <- runKFoldTuneGrid(X.train.logit, y.train, train.control, tune.grid, method = 'glmnet')"
   ]
  },
  {
   "cell_type": "code",
   "execution_count": 53,
   "metadata": {
    "collapsed": false
   },
   "outputs": [
    {
     "data": {},
     "metadata": {},
     "output_type": "display_data"
    },
    {
     "data": {
      "image/png": "[encoded data removed]",
      "text/plain": [
       "plot without title"
      ]
     },
     "metadata": {},
     "output_type": "display_data"
    }
   ],
   "source": [
    "setPlotDim(3, 4)\n",
    "ggplot(logit.clf)"
   ]
  },
  {
   "cell_type": "markdown",
   "metadata": {},
   "source": [
    "## Need to narrow down the lambda range"
   ]
  },
  {
   "cell_type": "code",
   "execution_count": 54,
   "metadata": {
    "collapsed": false
   },
   "outputs": [
    {
     "data": {},
     "metadata": {},
     "output_type": "display_data"
    },
    {
     "data": {
      "image/png": "[encoded data removed]",
      "text/plain": [
       "plot without title"
      ]
     },
     "metadata": {},
     "output_type": "display_data"
    }
   ],
   "source": [
    "lambda.seq <- log(seq(1, 2, length.out = 20))\n",
    "\n",
    "tune.grid <- expand.grid(lambda = lambda.seq, alpha = 0)\n",
    "logit.tune <- runKFoldTuneGrid(X.train.logit, y.train, train.control, tune.grid, method = 'glmnet')\n",
    "ggplot(logit.tune)"
   ]
  },
  {
   "cell_type": "code",
   "execution_count": 55,
   "metadata": {
    "collapsed": false
   },
   "outputs": [
    {
     "name": "stdout",
     "output_type": "stream",
     "text": [
      "glmnet \n",
      "\n",
      "916 samples\n",
      "  7 predictor\n",
      "  2 classes: '0', '1' \n",
      "\n",
      "No pre-processing\n",
      "Resampling: Cross-Validated (10 fold) \n",
      "Summary of sample sizes: 825, 825, 823, 824, 824, 824, ... \n",
      "Resampling results across tuning parameters (values above are 'mean (sd)'):\n",
      "\n",
      "  lambda      Accuracy                Kappa                 \n",
      "  0.00000000  0.8548096 (0.02403876)  0.6854876 (0.05572089)\n",
      "  0.05129329  0.8548096 (0.02403876)  0.6854876 (0.05572089)\n",
      "  0.10008346  0.8548096 (0.02403876)  0.6854876 (0.05572089)\n",
      "  0.14660347  0.8548096 (0.02403876)  0.6854876 (0.05572089)\n",
      "  0.19105524  0.8537343 (0.02556536)  0.6828447 (0.05985137)\n",
      "  0.23361485  0.8537343 (0.02556536)  0.6828447 (0.05985137)\n",
      "  0.27443685  0.8547857 (0.03095207)  0.6837845 (0.07094420)\n",
      "  0.31365756  0.8504256 (0.03178197)  0.6711587 (0.07415672)\n",
      "  0.35139789  0.8352309 (0.03808102)  0.6320135 (0.09496536)\n",
      "  0.38776553  0.8363417 (0.04049758)  0.6306741 (0.09884919)\n",
      "  0.42285685  0.8341320 (0.04024837)  0.6237777 (0.09925235)\n",
      "  0.45675840  0.8297483 (0.03945230)  0.6124241 (0.09772038)\n",
      "  0.48954823  0.8198940 (0.02966989)  0.5841643 (0.07651162)\n",
      "  0.52129692  0.8111862 (0.02895580)  0.5599861 (0.07611788)\n",
      "  0.55206858  0.8068261 (0.03356925)  0.5461496 (0.08922285)\n",
      "  0.58192155  0.8024544 (0.03258023)  0.5328466 (0.08812968)\n",
      "  0.61090908  0.7959088 (0.02899061)  0.5159204 (0.07997266)\n",
      "  0.63907996  0.7937112 (0.02601614)  0.5095311 (0.07361768)\n",
      "  0.66647893  0.7915490 (0.02821712)  0.5030698 (0.07913958)\n",
      "  0.69314718  0.7784570 (0.03377302)  0.4670195 (0.09709638)\n",
      "\n",
      "Tuning parameter 'alpha' was held constant at a value of 0\n",
      "Accuracy was used to select the optimal model using  the largest value.\n",
      "The final values used for the model were alpha = 0 and lambda = 0.1466035. \n"
     ]
    }
   ],
   "source": [
    "print(logit.tune, showSD=T)"
   ]
  },
  {
   "cell_type": "markdown",
   "metadata": {},
   "source": [
    "## View best tune parameters"
   ]
  },
  {
   "cell_type": "code",
   "execution_count": 56,
   "metadata": {
    "collapsed": false
   },
   "outputs": [
    {
     "data": {
      "text/plain": [
       "8 x 1 sparse Matrix of class \"dgCMatrix\"\n",
       "                      1\n",
       "(Intercept)  1.02541081\n",
       "Pclass.2    -0.07225897\n",
       "Pclass.3    -0.49064353\n",
       "Age         -0.10732215\n",
       "Sex.male    -1.78901243\n",
       "Fare         0.18758986\n",
       "Embarked.Q  -0.03923292\n",
       "Embarked.S  -0.21469416"
      ]
     },
     "metadata": {},
     "output_type": "display_data"
    }
   ],
   "source": [
    "## Best tune parameters\n",
    "coef(logit.tune$finalModel, logit.tune$bestTune$lambda)"
   ]
  },
  {
   "cell_type": "markdown",
   "metadata": {},
   "source": [
    "Below we see the predictions that our best model made. The columns are x=0 and x=1, and are P( x | w, x)."
   ]
  },
  {
   "cell_type": "code",
   "execution_count": 57,
   "metadata": {
    "collapsed": false
   },
   "outputs": [
    {
     "data": {
      "text/html": [
       "<table>\n",
       "<thead><tr><th scope=col>0</th><th scope=col>1</th></tr></thead>\n",
       "<tbody>\n",
       "\t<tr><td>0.8328832</td><td>0.1671168</td></tr>\n",
       "\t<tr><td>0.7975319</td><td>0.2024681</td></tr>\n",
       "\t<tr><td>0.3661208</td><td>0.6338792</td></tr>\n",
       "\t<tr><td>0.8147582</td><td>0.1852418</td></tr>\n",
       "\t<tr><td>0.8256830</td><td>0.1743170</td></tr>\n",
       "\t<tr><td>0.7463814</td><td>0.2536186</td></tr>\n",
       "</tbody>\n",
       "</table>\n"
      ],
      "text/latex": [
       "\\begin{tabular}{r|ll}\n",
       " 0 & 1\\\\\n",
       "\\hline\n",
       "\t 0.8328832 & 0.1671168\\\\\n",
       "\t 0.7975319 & 0.2024681\\\\\n",
       "\t 0.3661208 & 0.6338792\\\\\n",
       "\t 0.8147582 & 0.1852418\\\\\n",
       "\t 0.8256830 & 0.1743170\\\\\n",
       "\t 0.7463814 & 0.2536186\\\\\n",
       "\\end{tabular}\n"
      ],
      "text/markdown": [
       "\n",
       "0 | 1 | \n",
       "|---|---|---|---|---|---|\n",
       "| 0.8328832 | 0.1671168 | \n",
       "| 0.7975319 | 0.2024681 | \n",
       "| 0.3661208 | 0.6338792 | \n",
       "| 0.8147582 | 0.1852418 | \n",
       "| 0.8256830 | 0.1743170 | \n",
       "| 0.7463814 | 0.2536186 | \n",
       "\n",
       "\n"
      ],
      "text/plain": [
       "  0         1        \n",
       "1 0.8328832 0.1671168\n",
       "2 0.7975319 0.2024681\n",
       "3 0.3661208 0.6338792\n",
       "4 0.8147582 0.1852418\n",
       "5 0.8256830 0.1743170\n",
       "6 0.7463814 0.2536186"
      ]
     },
     "metadata": {},
     "output_type": "display_data"
    }
   ],
   "source": [
    "pred.best <- predict(logit.tune, X.test.logit, type = 'prob')\n",
    "head(pred.best)"
   ]
  },
  {
   "cell_type": "code",
   "execution_count": 58,
   "metadata": {
    "collapsed": false
   },
   "outputs": [
    {
     "name": "stdout",
     "output_type": "stream",
     "text": [
      "[1] \"factor\"\n",
      "[1] \"numeric\"\n"
     ]
    }
   ],
   "source": [
    "print(class(y.test))\n",
    "print(class(pred.best[, '1']))"
   ]
  },
  {
   "cell_type": "code",
   "execution_count": 59,
   "metadata": {
    "collapsed": false
   },
   "outputs": [
    {
     "data": {
      "text/plain": [
       "Confusion Matrix and Statistics\n",
       "\n",
       "          Reference\n",
       "Prediction   0   1\n",
       "         0 214  30\n",
       "         1  29 118\n",
       "                                          \n",
       "               Accuracy : 0.8491          \n",
       "                 95% CI : (0.8097, 0.8831)\n",
       "    No Information Rate : 0.6215          \n",
       "    P-Value [Acc > NIR] : <2e-16          \n",
       "                                          \n",
       "                  Kappa : 0.6789          \n",
       " Mcnemar's Test P-Value : 1               \n",
       "                                          \n",
       "            Sensitivity : 0.7973          \n",
       "            Specificity : 0.8807          \n",
       "         Pos Pred Value : 0.8027          \n",
       "         Neg Pred Value : 0.8770          \n",
       "             Prevalence : 0.3785          \n",
       "         Detection Rate : 0.3018          \n",
       "   Detection Prevalence : 0.3760          \n",
       "      Balanced Accuracy : 0.8390          \n",
       "                                          \n",
       "       'Positive' Class : 1               \n",
       "                                          "
      ]
     },
     "metadata": {},
     "output_type": "display_data"
    }
   ],
   "source": [
    "# Calculate the confusion matrix\n",
    "cm <- confusionMatrix(y.test, ifelse(pred.best[, '1'] > 0.5, 1, 0), positive = '1')              \n",
    "cm"
   ]
  },
  {
   "cell_type": "code",
   "execution_count": 60,
   "metadata": {
    "collapsed": false
   },
   "outputs": [
    {
     "data": {
      "text/html": [
       "<dl class=dl-horizontal>\n",
       "\t<dt>Sensitivity</dt>\n",
       "\t\t<dd>0.797297297297297</dd>\n",
       "\t<dt>Specificity</dt>\n",
       "\t\t<dd>0.880658436213992</dd>\n",
       "\t<dt>Pos Pred Value</dt>\n",
       "\t\t<dd>0.802721088435374</dd>\n",
       "\t<dt>Neg Pred Value</dt>\n",
       "\t\t<dd>0.877049180327869</dd>\n",
       "\t<dt>Precision</dt>\n",
       "\t\t<dd>0.802721088435374</dd>\n",
       "\t<dt>Recall</dt>\n",
       "\t\t<dd>0.797297297297297</dd>\n",
       "\t<dt>F1</dt>\n",
       "\t\t<dd>0.8</dd>\n",
       "\t<dt>Prevalence</dt>\n",
       "\t\t<dd>0.378516624040921</dd>\n",
       "\t<dt>Detection Rate</dt>\n",
       "\t\t<dd>0.301790281329923</dd>\n",
       "\t<dt>Detection Prevalence</dt>\n",
       "\t\t<dd>0.375959079283887</dd>\n",
       "\t<dt>Balanced Accuracy</dt>\n",
       "\t\t<dd>0.838977866755644</dd>\n",
       "</dl>\n"
      ],
      "text/latex": [
       "\\begin{description*}\n",
       "\\item[Sensitivity] 0.797297297297297\n",
       "\\item[Specificity] 0.880658436213992\n",
       "\\item[Pos Pred Value] 0.802721088435374\n",
       "\\item[Neg Pred Value] 0.877049180327869\n",
       "\\item[Precision] 0.802721088435374\n",
       "\\item[Recall] 0.797297297297297\n",
       "\\item[F1] 0.8\n",
       "\\item[Prevalence] 0.378516624040921\n",
       "\\item[Detection Rate] 0.301790281329923\n",
       "\\item[Detection Prevalence] 0.375959079283887\n",
       "\\item[Balanced Accuracy] 0.838977866755644\n",
       "\\end{description*}\n"
      ],
      "text/markdown": [
       "Sensitivity\n",
       ":   0.797297297297297Specificity\n",
       ":   0.880658436213992Pos Pred Value\n",
       ":   0.802721088435374Neg Pred Value\n",
       ":   0.877049180327869Precision\n",
       ":   0.802721088435374Recall\n",
       ":   0.797297297297297F1\n",
       ":   0.8Prevalence\n",
       ":   0.378516624040921Detection Rate\n",
       ":   0.301790281329923Detection Prevalence\n",
       ":   0.375959079283887Balanced Accuracy\n",
       ":   0.838977866755644\n",
       "\n"
      ],
      "text/plain": [
       "         Sensitivity          Specificity       Pos Pred Value \n",
       "           0.7972973            0.8806584            0.8027211 \n",
       "      Neg Pred Value            Precision               Recall \n",
       "           0.8770492            0.8027211            0.7972973 \n",
       "                  F1           Prevalence       Detection Rate \n",
       "           0.8000000            0.3785166            0.3017903 \n",
       "Detection Prevalence    Balanced Accuracy \n",
       "           0.3759591            0.8389779 "
      ]
     },
     "metadata": {},
     "output_type": "display_data"
    }
   ],
   "source": [
    "cm$byClass"
   ]
  },
  {
   "cell_type": "code",
   "execution_count": 61,
   "metadata": {
    "collapsed": false
   },
   "outputs": [],
   "source": [
    "pred <- prediction(pred.best[, '1'], y.test)"
   ]
  },
  {
   "cell_type": "code",
   "execution_count": 62,
   "metadata": {
    "collapsed": false
   },
   "outputs": [
    {
     "data": {},
     "metadata": {},
     "output_type": "display_data"
    },
    {
     "data": {
      "image/png": "[encoded data removed]",
      "text/plain": [
       "plot without title"
      ]
     },
     "metadata": {},
     "output_type": "display_data"
    }
   ],
   "source": [
    "setPlotDim(3, 3)\n",
    "plotRoc(pred)"
   ]
  },
  {
   "cell_type": "markdown",
   "metadata": {},
   "source": [
    "## Decision tree (rpart lib.)"
   ]
  },
  {
   "cell_type": "code",
   "execution_count": 63,
   "metadata": {
    "collapsed": false
   },
   "outputs": [],
   "source": [
    "library(rpart)\n",
    "library(rpart.plot)"
   ]
  },
  {
   "cell_type": "code",
   "execution_count": 64,
   "metadata": {
    "collapsed": false
   },
   "outputs": [],
   "source": [
    "# Use the split variable to create ned training and test sets\n",
    "train.set <- dat[split, ]\n",
    "test.set <- dat[-split, ]"
   ]
  },
  {
   "cell_type": "code",
   "execution_count": 65,
   "metadata": {
    "collapsed": false
   },
   "outputs": [
    {
     "data": {
      "text/html": [
       "<ol class=list-inline>\n",
       "\t<li>391</li>\n",
       "\t<li>6</li>\n",
       "</ol>\n"
      ],
      "text/latex": [
       "\\begin{enumerate*}\n",
       "\\item 391\n",
       "\\item 6\n",
       "\\end{enumerate*}\n"
      ],
      "text/markdown": [
       "1. 391\n",
       "2. 6\n",
       "\n",
       "\n"
      ],
      "text/plain": [
       "[1] 391   6"
      ]
     },
     "metadata": {},
     "output_type": "display_data"
    }
   ],
   "source": [
    "# Just to check\n",
    "dim(test.set)"
   ]
  },
  {
   "cell_type": "code",
   "execution_count": 66,
   "metadata": {
    "collapsed": false
   },
   "outputs": [
    {
     "data": {
      "text/html": [
       "<table>\n",
       "<thead><tr><th></th><th scope=col>Pclass</th><th scope=col>Age</th><th scope=col>Sex</th><th scope=col>Fare</th><th scope=col>Embarked</th></tr></thead>\n",
       "<tbody>\n",
       "\t<tr><th scope=row>1</th><td>3         </td><td>-0.5800386</td><td>male      </td><td>-0.5016466</td><td>S         </td></tr>\n",
       "\t<tr><th scope=row>2</th><td>1         </td><td> 0.6620439</td><td>female    </td><td> 0.7357413</td><td>C         </td></tr>\n",
       "\t<tr><th scope=row>3</th><td>3         </td><td>-0.2695180</td><td>female    </td><td>-0.4886028</td><td>S         </td></tr>\n",
       "\t<tr><th scope=row>4</th><td>1         </td><td> 0.4291534</td><td>female    </td><td> 0.3843648</td><td>S         </td></tr>\n",
       "\t<tr><th scope=row>7</th><td>1         </td><td> 1.9041264</td><td>male      </td><td> 0.3604512</td><td>S         </td></tr>\n",
       "\t<tr><th scope=row>8</th><td>3         </td><td>-2.1326418</td><td>male      </td><td>-0.2344905</td><td>S         </td></tr>\n",
       "</tbody>\n",
       "</table>\n"
      ],
      "text/latex": [
       "\\begin{tabular}{r|lllll}\n",
       "  & Pclass & Age & Sex & Fare & Embarked\\\\\n",
       "\\hline\n",
       "\t1 & 3          & -0.5800386 & male       & -0.5016466 & S         \\\\\n",
       "\t2 & 1          &  0.6620439 & female     &  0.7357413 & C         \\\\\n",
       "\t3 & 3          & -0.2695180 & female     & -0.4886028 & S         \\\\\n",
       "\t4 & 1          &  0.4291534 & female     &  0.3843648 & S         \\\\\n",
       "\t7 & 1          &  1.9041264 & male       &  0.3604512 & S         \\\\\n",
       "\t8 & 3          & -2.1326418 & male       & -0.2344905 & S         \\\\\n",
       "\\end{tabular}\n"
      ],
      "text/markdown": [
       "\n",
       "| <!--/--> | Pclass | Age | Sex | Fare | Embarked | \n",
       "|---|---|---|---|---|---|\n",
       "| 1 | 3          | -0.5800386 | male       | -0.5016466 | S          | \n",
       "| 2 | 1          |  0.6620439 | female     |  0.7357413 | C          | \n",
       "| 3 | 3          | -0.2695180 | female     | -0.4886028 | S          | \n",
       "| 4 | 1          |  0.4291534 | female     |  0.3843648 | S          | \n",
       "| 7 | 1          |  1.9041264 | male       |  0.3604512 | S          | \n",
       "| 8 | 3          | -2.1326418 | male       | -0.2344905 | S          | \n",
       "\n",
       "\n"
      ],
      "text/plain": [
       "  Pclass Age        Sex    Fare       Embarked\n",
       "1 3      -0.5800386 male   -0.5016466 S       \n",
       "2 1       0.6620439 female  0.7357413 C       \n",
       "3 3      -0.2695180 female -0.4886028 S       \n",
       "4 1       0.4291534 female  0.3843648 S       \n",
       "7 1       1.9041264 male    0.3604512 S       \n",
       "8 3      -2.1326418 male   -0.2344905 S       "
      ]
     },
     "metadata": {},
     "output_type": "display_data"
    }
   ],
   "source": [
    "head(X.train)"
   ]
  },
  {
   "cell_type": "markdown",
   "metadata": {},
   "source": [
    "### Run rpart using the regular way"
   ]
  },
  {
   "cell_type": "code",
   "execution_count": 67,
   "metadata": {
    "collapsed": false
   },
   "outputs": [
    {
     "data": {
      "image/png": "[encoded data removed]",
      "text/plain": [
       "plot without title"
      ]
     },
     "metadata": {},
     "output_type": "display_data"
    }
   ],
   "source": [
    "single.tree <- rpart(Survived~., data = train.set, method = 'class')\n",
    "setPlotDim(4, 6)\n",
    "rpart.plot(single.tree)"
   ]
  },
  {
   "cell_type": "code",
   "execution_count": 68,
   "metadata": {
    "collapsed": false
   },
   "outputs": [
    {
     "data": {
      "text/html": [
       "<table>\n",
       "<thead><tr><th></th><th scope=col>CP</th><th scope=col>nsplit</th><th scope=col>rel error</th><th scope=col>xerror</th><th scope=col>xstd</th></tr></thead>\n",
       "<tbody>\n",
       "\t<tr><th scope=row>1</th><td>0.6115942 </td><td>0         </td><td>1.0000000 </td><td>1.0000000 </td><td>0.04250703</td></tr>\n",
       "\t<tr><th scope=row>2</th><td>0.0115942 </td><td>1         </td><td>0.3884058 </td><td>0.3884058 </td><td>0.03100195</td></tr>\n",
       "\t<tr><th scope=row>3</th><td>0.0100000 </td><td>3         </td><td>0.3652174 </td><td>0.3942029 </td><td>0.03119248</td></tr>\n",
       "</tbody>\n",
       "</table>\n"
      ],
      "text/latex": [
       "\\begin{tabular}{r|lllll}\n",
       "  & CP & nsplit & rel error & xerror & xstd\\\\\n",
       "\\hline\n",
       "\t1 & 0.6115942  & 0          & 1.0000000  & 1.0000000  & 0.04250703\\\\\n",
       "\t2 & 0.0115942  & 1          & 0.3884058  & 0.3884058  & 0.03100195\\\\\n",
       "\t3 & 0.0100000  & 3          & 0.3652174  & 0.3942029  & 0.03119248\\\\\n",
       "\\end{tabular}\n"
      ],
      "text/markdown": [
       "\n",
       "| <!--/--> | CP | nsplit | rel error | xerror | xstd | \n",
       "|---|---|---|\n",
       "| 1 | 0.6115942  | 0          | 1.0000000  | 1.0000000  | 0.04250703 | \n",
       "| 2 | 0.0115942  | 1          | 0.3884058  | 0.3884058  | 0.03100195 | \n",
       "| 3 | 0.0100000  | 3          | 0.3652174  | 0.3942029  | 0.03119248 | \n",
       "\n",
       "\n"
      ],
      "text/plain": [
       "  CP        nsplit rel error xerror    xstd      \n",
       "1 0.6115942 0      1.0000000 1.0000000 0.04250703\n",
       "2 0.0115942 1      0.3884058 0.3884058 0.03100195\n",
       "3 0.0100000 3      0.3652174 0.3942029 0.03119248"
      ]
     },
     "metadata": {},
     "output_type": "display_data"
    }
   ],
   "source": [
    "## Here one can see which cp values have been tested out\n",
    "single.tree$cptable"
   ]
  },
  {
   "cell_type": "markdown",
   "metadata": {},
   "source": [
    "### Note to self: \n",
    "\n",
    "If you want to use different parameters using the rpart function, use the control parameters such as:\n",
    "\n",
    "```r\n",
    "single.tree <- rpart(Survived~., data = train.set, method = 'class', control = rpart.control(cp = 0.1))\n",
    "```\n",
    "\n",
    "For more info, check ?rpart and ?rpart.control :)."
   ]
  },
  {
   "cell_type": "code",
   "execution_count": 69,
   "metadata": {
    "collapsed": false
   },
   "outputs": [
    {
     "data": {
      "text/plain": [
       "Confusion Matrix and Statistics\n",
       "\n",
       "          Reference\n",
       "Prediction   0   1\n",
       "         0 225  19\n",
       "         1  30 117\n",
       "                                          \n",
       "               Accuracy : 0.8747          \n",
       "                 95% CI : (0.8377, 0.9058)\n",
       "    No Information Rate : 0.6522          \n",
       "    P-Value [Acc > NIR] : <2e-16          \n",
       "                                          \n",
       "                  Kappa : 0.7289          \n",
       " Mcnemar's Test P-Value : 0.1531          \n",
       "                                          \n",
       "            Sensitivity : 0.8603          \n",
       "            Specificity : 0.8824          \n",
       "         Pos Pred Value : 0.7959          \n",
       "         Neg Pred Value : 0.9221          \n",
       "             Prevalence : 0.3478          \n",
       "         Detection Rate : 0.2992          \n",
       "   Detection Prevalence : 0.3760          \n",
       "      Balanced Accuracy : 0.8713          \n",
       "                                          \n",
       "       'Positive' Class : 1               \n",
       "                                          "
      ]
     },
     "metadata": {},
     "output_type": "display_data"
    }
   ],
   "source": [
    "# Predict using the single tre\n",
    "pred.single.tree <- predict(single.tree, test.set, type = 'prob')\n",
    "confusionMatrix(test.set$Survived, ifelse(pred.single.tree[, '1'] > 0.5, 1, 0), positive = '1')"
   ]
  },
  {
   "cell_type": "markdown",
   "metadata": {},
   "source": [
    "### rpart using caret library :)"
   ]
  },
  {
   "cell_type": "code",
   "execution_count": 70,
   "metadata": {
    "collapsed": false
   },
   "outputs": [
    {
     "name": "stdout",
     "output_type": "stream",
     "text": [
      "CART \n",
      "\n",
      "916 samples\n",
      "  5 predictor\n",
      "  2 classes: '0', '1' \n",
      "\n",
      "No pre-processing\n",
      "Resampling: Cross-Validated (10 fold) \n",
      "Summary of sample sizes: 825, 825, 823, 824, 824, 824, ... \n",
      "Resampling results across tuning parameters (values above are 'mean (sd)'):\n",
      "\n",
      "  cp          Accuracy                Kappa                 \n",
      "  0.00000000  0.8373102 (0.04111850)  0.6464046 (0.09625110)\n",
      "  0.05129329  0.8537107 (0.02821383)  0.6826172 (0.06398019)\n",
      "  0.10008346  0.8537107 (0.02821383)  0.6826172 (0.06398019)\n",
      "  0.14660347  0.8537107 (0.02821383)  0.6826172 (0.06398019)\n",
      "  0.19105524  0.8537107 (0.02821383)  0.6826172 (0.06398019)\n",
      "  0.23361485  0.8537107 (0.02821383)  0.6826172 (0.06398019)\n",
      "  0.27443685  0.8537107 (0.02821383)  0.6826172 (0.06398019)\n",
      "  0.31365756  0.8537107 (0.02821383)  0.6826172 (0.06398019)\n",
      "  0.35139789  0.8537107 (0.02821383)  0.6826172 (0.06398019)\n",
      "  0.38776553  0.8537107 (0.02821383)  0.6826172 (0.06398019)\n",
      "  0.42285685  0.8537107 (0.02821383)  0.6826172 (0.06398019)\n",
      "  0.45675840  0.8537107 (0.02821383)  0.6826172 (0.06398019)\n",
      "  0.48954823  0.8537107 (0.02821383)  0.6826172 (0.06398019)\n",
      "  0.52129692  0.8537107 (0.02821383)  0.6826172 (0.06398019)\n",
      "  0.55206858  0.8537107 (0.02821383)  0.6826172 (0.06398019)\n",
      "  0.58192155  0.8537107 (0.02821383)  0.6826172 (0.06398019)\n",
      "  0.61090908  0.7740881 (0.10576680)  0.4540319 (0.31434770)\n",
      "  0.63907996  0.6233785 (0.00338453)  0.0000000 (0.00000000)\n",
      "  0.66647893  0.6233785 (0.00338453)  0.0000000 (0.00000000)\n",
      "  0.69314718  0.6233785 (0.00338453)  0.0000000 (0.00000000)\n",
      "\n",
      "Accuracy was used to select the optimal model using  the largest value.\n",
      "The final value used for the model was cp = 0.5819215. \n"
     ]
    }
   ],
   "source": [
    "# Set up parameters\n",
    "tree.grid <- expand.grid(cp = log(seq(1, 2, length.out = 20)))\n",
    "tree.control <- trainControl(method = 'cv', number = 10)\n",
    "\n",
    "\n",
    "# Train the tree model. Test out different parameters\n",
    "set.seed(123)\n",
    "tree.tune <- train (x = X.train, y = y.train, method = \"rpart\", trControl = tree.control, tuneGrid = tree.grid)\n",
    "print(tree.tune, showSD=T)               "
   ]
  },
  {
   "cell_type": "code",
   "execution_count": 71,
   "metadata": {
    "collapsed": false
   },
   "outputs": [
    {
     "data": {},
     "metadata": {},
     "output_type": "display_data"
    },
    {
     "data": {
      "image/png": "[encoded data removed]",
      "text/plain": [
       "plot without title"
      ]
     },
     "metadata": {},
     "output_type": "display_data"
    }
   ],
   "source": [
    "setPlotDim(2, 3)\n",
    "ggplot(tree.tune)"
   ]
  },
  {
   "cell_type": "code",
   "execution_count": 72,
   "metadata": {
    "collapsed": false
   },
   "outputs": [
    {
     "data": {
      "text/plain": [
       "n= 916 \n",
       "\n",
       "node), split, n, loss, yval, (yprob)\n",
       "      * denotes terminal node\n",
       "\n",
       "1) root 916 345 0 (0.6233624 0.3766376)  \n",
       "  2) Sex=male 599  81 0 (0.8647746 0.1352254) *\n",
       "  3) Sex=female 317  53 1 (0.1671924 0.8328076) *"
      ]
     },
     "metadata": {},
     "output_type": "display_data"
    }
   ],
   "source": [
    "tree.tune$finalModel"
   ]
  },
  {
   "cell_type": "code",
   "execution_count": 73,
   "metadata": {
    "collapsed": false
   },
   "outputs": [
    {
     "data": {
      "image/png": "[encoded data removed]",
      "text/plain": [
       "plot without title"
      ]
     },
     "metadata": {},
     "output_type": "display_data"
    }
   ],
   "source": [
    "setPlotDim(4, 6)\n",
    "rpart.plot(tree.tune$finalModel)"
   ]
  },
  {
   "cell_type": "code",
   "execution_count": 74,
   "metadata": {
    "collapsed": false
   },
   "outputs": [
    {
     "data": {
      "text/plain": [
       "Confusion Matrix and Statistics\n",
       "\n",
       "          Reference\n",
       "Prediction   0   1\n",
       "         0 216  28\n",
       "         1  28 119\n",
       "                                        \n",
       "               Accuracy : 0.8568        \n",
       "                 95% CI : (0.8181, 0.89)\n",
       "    No Information Rate : 0.624         \n",
       "    P-Value [Acc > NIR] : <2e-16        \n",
       "                                        \n",
       "                  Kappa : 0.6948        \n",
       " Mcnemar's Test P-Value : 1             \n",
       "                                        \n",
       "            Sensitivity : 0.8095        \n",
       "            Specificity : 0.8852        \n",
       "         Pos Pred Value : 0.8095        \n",
       "         Neg Pred Value : 0.8852        \n",
       "             Prevalence : 0.3760        \n",
       "         Detection Rate : 0.3043        \n",
       "   Detection Prevalence : 0.3760        \n",
       "      Balanced Accuracy : 0.8474        \n",
       "                                        \n",
       "       'Positive' Class : 1             \n",
       "                                        "
      ]
     },
     "metadata": {},
     "output_type": "display_data"
    }
   ],
   "source": [
    "pred.best.tree <- predict(tree.tune$finalModel, test.set, type = 'prob')\n",
    "confusionMatrix(test.set$Survived, ifelse(pred.best.tree[, '1'] > 0.5, 1, 0), positive = '1')"
   ]
  },
  {
   "cell_type": "code",
   "execution_count": 75,
   "metadata": {
    "collapsed": false
   },
   "outputs": [
    {
     "name": "stderr",
     "output_type": "stream",
     "text": [
      "Installing package into 'C:/Users/emirl/Documents/R/win-library/3.3'\n",
      "(as 'lib' is unspecified)\n"
     ]
    },
    {
     "name": "stdout",
     "output_type": "stream",
     "text": [
      "package 'reshape' successfully unpacked and MD5 sums checked\n",
      "\n",
      "The downloaded binary packages are in\n",
      "\tC:\\Users\\emirl\\AppData\\Local\\Temp\\Rtmp29gKkf\\downloaded_packages\n"
     ]
    },
    {
     "name": "stderr",
     "output_type": "stream",
     "text": [
      "Warning message:\n",
      "\"package 'reshape' was built under R version 3.3.3\"\n",
      "Attaching package: 'reshape'\n",
      "\n",
      "The following object is masked from 'package:Matrix':\n",
      "\n",
      "    expand\n",
      "\n",
      "The following object is masked from 'package:dplyr':\n",
      "\n",
      "    rename\n",
      "\n"
     ]
    }
   ],
   "source": [
    "install.packages('reshape')\n",
    "library(reshape)"
   ]
  },
  {
   "cell_type": "code",
   "execution_count": 76,
   "metadata": {
    "collapsed": false
   },
   "outputs": [
    {
     "data": {},
     "metadata": {},
     "output_type": "display_data"
    },
    {
     "data": {
      "image/png": "[encoded data removed]",
      "text/plain": [
       "plot without title"
      ]
     },
     "metadata": {},
     "output_type": "display_data"
    }
   ],
   "source": [
    "vImp <- as.data.frame(varImp(tree.tune$finalModel))\n",
    "\n",
    "# Sort the index in order to sort the data frame\n",
    "index <- with(vImp, order(Overall))\n",
    "\n",
    "# Create a sorted data frame\n",
    "sortImp <- data.frame(importance=vImp[index, ], feature=rownames(vImp)[index])\n",
    "\n",
    "# Plot the variable importance\n",
    "setPlotDim(3, 4)\n",
    "ggplot(data=sortImp, aes(x=reorder(feature, -importance), y=importance)) + geom_bar(stat=\"identity\") + labs(x='Feature', title='Variable importance')"
   ]
  },
  {
   "cell_type": "markdown",
   "metadata": {},
   "source": [
    "## Random Forest"
   ]
  },
  {
   "cell_type": "code",
   "execution_count": 77,
   "metadata": {
    "collapsed": false
   },
   "outputs": [
    {
     "name": "stderr",
     "output_type": "stream",
     "text": [
      "randomForest 4.6-12\n",
      "Type rfNews() to see new features/changes/bug fixes.\n",
      "\n",
      "Attaching package: 'randomForest'\n",
      "\n",
      "The following object is masked from 'package:ggplot2':\n",
      "\n",
      "    margin\n",
      "\n",
      "The following object is masked from 'package:dplyr':\n",
      "\n",
      "    combine\n",
      "\n"
     ]
    }
   ],
   "source": [
    "library(randomForest)"
   ]
  },
  {
   "cell_type": "code",
   "execution_count": 78,
   "metadata": {
    "collapsed": false
   },
   "outputs": [
    {
     "name": "stdout",
     "output_type": "stream",
     "text": [
      "Random Forest \n",
      "\n",
      "916 samples\n",
      "  5 predictor\n",
      "  2 classes: '0', '1' \n",
      "\n",
      "No pre-processing\n",
      "Resampling: Cross-Validated (10 fold) \n",
      "Summary of sample sizes: 825, 825, 825, 824, 824, 825, ... \n",
      "Resampling results across tuning parameters (values above are 'mean (sd)'):\n",
      "\n",
      "  mtry  Accuracy                Kappa                 \n",
      "  1     0.8024009 (0.03193248)  0.5391412 (0.07890771)\n",
      "  2     0.8602246 (0.03219293)  0.6962180 (0.06663026)\n",
      "  3     0.8613115 (0.03191006)  0.6992472 (0.06517003)\n",
      "  4     0.8493072 (0.03379821)  0.6750967 (0.06958485)\n",
      "  5     0.8438366 (0.03352857)  0.6644460 (0.06845500)\n",
      "\n",
      "Accuracy was used to select the optimal model using  the largest value.\n",
      "The final value used for the model was mtry = 3. \n"
     ]
    }
   ],
   "source": [
    "rf.control <- trainControl(method = 'cv', number = 10)\n",
    "rf.grid <- expand.grid(mtry = seq(1, ncol(train.set) - 1, by = 1))\n",
    "\n",
    "rf.tune <- train(Survived~., data = train.set, method = 'rf', trControl = rf.control, tuneGrid = rf.grid)\n",
    "\n",
    "print(rf.tune, showSD=T)"
   ]
  },
  {
   "cell_type": "markdown",
   "metadata": {
    "collapsed": true
   },
   "source": [
    "# Compare models\n",
    "\n",
    "Let us compare the models in a more compact way.\n"
   ]
  },
  {
   "cell_type": "code",
   "execution_count": 79,
   "metadata": {
    "collapsed": false
   },
   "outputs": [
    {
     "data": {
      "text/plain": [
       "\n",
       "Call:\n",
       "summary.resamples(object = results)\n",
       "\n",
       "Models: LOGREG, TREE, RandFor \n",
       "Number of resamples: 10 \n",
       "\n",
       "Accuracy \n",
       "          Min. 1st Qu. Median   Mean 3rd Qu.   Max. NA's\n",
       "LOGREG  0.8242  0.8393 0.8516 0.8548  0.8668 0.9022    0\n",
       "TREE    0.8132  0.8393 0.8470 0.8537  0.8665 0.9130    0\n",
       "RandFor 0.8132  0.8393 0.8688 0.8613  0.8883 0.9022    0\n",
       "\n",
       "Kappa \n",
       "          Min. 1st Qu. Median   Mean 3rd Qu.   Max. NA's\n",
       "LOGREG  0.6161  0.6470 0.6764 0.6855  0.7238 0.7913    0\n",
       "TREE    0.5985  0.6470 0.6725 0.6826  0.7195 0.8135    0\n",
       "RandFor 0.6032  0.6491 0.7158 0.6992  0.7538 0.7835    0\n"
      ]
     },
     "metadata": {},
     "output_type": "display_data"
    }
   ],
   "source": [
    "# Collect resamples\n",
    "results <- resamples(list(LOGREG=logit.tune, TREE=tree.tune, RandFor=rf.tune))\n",
    "# summarize the distributions\n",
    "summary(results)"
   ]
  },
  {
   "cell_type": "code",
   "execution_count": 80,
   "metadata": {
    "collapsed": false
   },
   "outputs": [
    {
     "data": {},
     "metadata": {},
     "output_type": "display_data"
    },
    {
     "data": {
      "image/png": "[encoded data removed]",
      "text/plain": [
       "plot without title"
      ]
     },
     "metadata": {},
     "output_type": "display_data"
    }
   ],
   "source": [
    "setPlotDim(3, 6)\n",
    "# boxplots of results\n",
    "bwplot(results)"
   ]
  },
  {
   "cell_type": "code",
   "execution_count": null,
   "metadata": {
    "collapsed": true
   },
   "outputs": [],
   "source": []
  }
 ],
 "metadata": {
  "anaconda-cloud": {},
  "kernelspec": {
   "display_name": "R",
   "language": "R",
   "name": "ir"
  },
  "language_info": {
   "codemirror_mode": "r",
   "file_extension": ".r",
   "mimetype": "text/x-r-source",
   "name": "R",
   "pygments_lexer": "r",
   "version": "3.3.2"
  }
 },
 "nbformat": 4,
 "nbformat_minor": 0
}
